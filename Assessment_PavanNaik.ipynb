{
 "cells": [
  {
   "cell_type": "markdown",
   "metadata": {},
   "source": [
    "#### Pavan Kumar Srikanth Naik (pavankumar.s.naik@gmail.com)"
   ]
  },
  {
   "cell_type": "code",
   "execution_count": 1,
   "metadata": {},
   "outputs": [],
   "source": [
    "# importing packages\n",
    "\n",
    "import numpy as np\n",
    "import pandas as pd\n",
    "import matplotlib.pyplot as plt\n",
    "from sklearn import metrics\n",
    "from sklearn.metrics import classification_report\n",
    "import statsmodels.api as sm\n",
    "import warnings\n",
    "warnings.filterwarnings('ignore')"
   ]
  },
  {
   "cell_type": "code",
   "execution_count": 2,
   "metadata": {},
   "outputs": [],
   "source": [
    "#Read a comma-separated values (csv) file into DataFrame\n",
    "df = pd.read_csv(\"InterviewData_Activity.csv\")\n",
    "cost = pd.read_csv(\"InterviewData_Cost.csv\")\n",
    "parsing = pd.read_csv(\"InterviewData_Parsing.csv\")\n",
    "rev = pd.read_csv(\"InterviewData_Rev.csv\")"
   ]
  },
  {
   "cell_type": "code",
   "execution_count": 3,
   "metadata": {},
   "outputs": [
    {
     "data": {
      "text/html": [
       "<div>\n",
       "<style scoped>\n",
       "    .dataframe tbody tr th:only-of-type {\n",
       "        vertical-align: middle;\n",
       "    }\n",
       "\n",
       "    .dataframe tbody tr th {\n",
       "        vertical-align: top;\n",
       "    }\n",
       "\n",
       "    .dataframe thead th {\n",
       "        text-align: right;\n",
       "    }\n",
       "</style>\n",
       "<table border=\"1\" class=\"dataframe\">\n",
       "  <thead>\n",
       "    <tr style=\"text-align: right;\">\n",
       "      <th></th>\n",
       "      <th>date</th>\n",
       "      <th>source_id</th>\n",
       "      <th>cost</th>\n",
       "    </tr>\n",
       "  </thead>\n",
       "  <tbody>\n",
       "    <tr>\n",
       "      <th>0</th>\n",
       "      <td>10/17/14</td>\n",
       "      <td>PA0577</td>\n",
       "      <td>7168.0</td>\n",
       "    </tr>\n",
       "    <tr>\n",
       "      <th>1</th>\n",
       "      <td>8/17/14</td>\n",
       "      <td>PA0354</td>\n",
       "      <td>7615.0</td>\n",
       "    </tr>\n",
       "    <tr>\n",
       "      <th>2</th>\n",
       "      <td>1/7/14</td>\n",
       "      <td>PA0607</td>\n",
       "      <td>4054.0</td>\n",
       "    </tr>\n",
       "    <tr>\n",
       "      <th>3</th>\n",
       "      <td>8/25/14</td>\n",
       "      <td>PA0745</td>\n",
       "      <td>9317.0</td>\n",
       "    </tr>\n",
       "    <tr>\n",
       "      <th>4</th>\n",
       "      <td>11/30/14</td>\n",
       "      <td>PA0923</td>\n",
       "      <td>5586.0</td>\n",
       "    </tr>\n",
       "  </tbody>\n",
       "</table>\n",
       "</div>"
      ],
      "text/plain": [
       "       date source_id    cost\n",
       "0  10/17/14    PA0577  7168.0\n",
       "1   8/17/14    PA0354  7615.0\n",
       "2    1/7/14    PA0607  4054.0\n",
       "3   8/25/14    PA0745  9317.0\n",
       "4  11/30/14    PA0923  5586.0"
      ]
     },
     "execution_count": 3,
     "metadata": {},
     "output_type": "execute_result"
    }
   ],
   "source": [
    "cost.head()"
   ]
  },
  {
   "cell_type": "code",
   "execution_count": 4,
   "metadata": {
    "scrolled": false
   },
   "outputs": [
    {
     "data": {
      "text/html": [
       "<div>\n",
       "<style scoped>\n",
       "    .dataframe tbody tr th:only-of-type {\n",
       "        vertical-align: middle;\n",
       "    }\n",
       "\n",
       "    .dataframe tbody tr th {\n",
       "        vertical-align: top;\n",
       "    }\n",
       "\n",
       "    .dataframe thead th {\n",
       "        text-align: right;\n",
       "    }\n",
       "</style>\n",
       "<table border=\"1\" class=\"dataframe\">\n",
       "  <thead>\n",
       "    <tr style=\"text-align: right;\">\n",
       "      <th></th>\n",
       "      <th>date</th>\n",
       "      <th>source_id</th>\n",
       "      <th>revenue</th>\n",
       "    </tr>\n",
       "  </thead>\n",
       "  <tbody>\n",
       "    <tr>\n",
       "      <th>0</th>\n",
       "      <td>8/1/14</td>\n",
       "      <td>PA0368</td>\n",
       "      <td>5717.0</td>\n",
       "    </tr>\n",
       "    <tr>\n",
       "      <th>1</th>\n",
       "      <td>1/31/14</td>\n",
       "      <td>PA0277</td>\n",
       "      <td>1380.0</td>\n",
       "    </tr>\n",
       "    <tr>\n",
       "      <th>2</th>\n",
       "      <td>6/9/14</td>\n",
       "      <td>PA0745</td>\n",
       "      <td>7535.0</td>\n",
       "    </tr>\n",
       "    <tr>\n",
       "      <th>3</th>\n",
       "      <td>9/1/14</td>\n",
       "      <td>PA0751</td>\n",
       "      <td>2868.0</td>\n",
       "    </tr>\n",
       "    <tr>\n",
       "      <th>4</th>\n",
       "      <td>3/12/14</td>\n",
       "      <td>PA0859</td>\n",
       "      <td>10757.0</td>\n",
       "    </tr>\n",
       "  </tbody>\n",
       "</table>\n",
       "</div>"
      ],
      "text/plain": [
       "      date source_id  revenue\n",
       "0   8/1/14    PA0368   5717.0\n",
       "1  1/31/14    PA0277   1380.0\n",
       "2   6/9/14    PA0745   7535.0\n",
       "3   9/1/14    PA0751   2868.0\n",
       "4  3/12/14    PA0859  10757.0"
      ]
     },
     "execution_count": 4,
     "metadata": {},
     "output_type": "execute_result"
    }
   ],
   "source": [
    "rev.head()"
   ]
  },
  {
   "cell_type": "code",
   "execution_count": 5,
   "metadata": {},
   "outputs": [
    {
     "data": {
      "text/plain": [
       "date         10000\n",
       "source_id    10000\n",
       "cost         10000\n",
       "dtype: int64"
      ]
     },
     "execution_count": 5,
     "metadata": {},
     "output_type": "execute_result"
    }
   ],
   "source": [
    "cost.isnull().count()"
   ]
  },
  {
   "cell_type": "code",
   "execution_count": 6,
   "metadata": {},
   "outputs": [
    {
     "data": {
      "text/plain": [
       "date         10000\n",
       "source_id    10000\n",
       "revenue      10000\n",
       "dtype: int64"
      ]
     },
     "execution_count": 6,
     "metadata": {},
     "output_type": "execute_result"
    }
   ],
   "source": [
    "rev.isnull().count()"
   ]
  },
  {
   "cell_type": "markdown",
   "metadata": {},
   "source": [
    "We can see from the above output that there are 10000 rows in both cost and rev, and there are no null values in any column in the given datasets."
   ]
  },
  {
   "cell_type": "markdown",
   "metadata": {},
   "source": [
    "#### 1. Join the two datasets (InterviewData_Cost.csv and InterviewData_Rev.csv) by \"date\" and  \"source_id\" returning all rows from both regardless of whether there is a match between the two data sets"
   ]
  },
  {
   "cell_type": "code",
   "execution_count": 7,
   "metadata": {},
   "outputs": [],
   "source": [
    "#Outer join between the two datasets\n",
    "CostRevO = pd.merge(cost, rev,  how='outer', left_on=['date','source_id'], right_on = ['date','source_id'])"
   ]
  },
  {
   "cell_type": "code",
   "execution_count": 8,
   "metadata": {},
   "outputs": [
    {
     "data": {
      "text/html": [
       "<div>\n",
       "<style scoped>\n",
       "    .dataframe tbody tr th:only-of-type {\n",
       "        vertical-align: middle;\n",
       "    }\n",
       "\n",
       "    .dataframe tbody tr th {\n",
       "        vertical-align: top;\n",
       "    }\n",
       "\n",
       "    .dataframe thead th {\n",
       "        text-align: right;\n",
       "    }\n",
       "</style>\n",
       "<table border=\"1\" class=\"dataframe\">\n",
       "  <thead>\n",
       "    <tr style=\"text-align: right;\">\n",
       "      <th></th>\n",
       "      <th>date</th>\n",
       "      <th>source_id</th>\n",
       "      <th>cost</th>\n",
       "      <th>revenue</th>\n",
       "    </tr>\n",
       "  </thead>\n",
       "  <tbody>\n",
       "    <tr>\n",
       "      <th>0</th>\n",
       "      <td>10/17/14</td>\n",
       "      <td>PA0577</td>\n",
       "      <td>7168.0</td>\n",
       "      <td>8417.0</td>\n",
       "    </tr>\n",
       "    <tr>\n",
       "      <th>1</th>\n",
       "      <td>8/17/14</td>\n",
       "      <td>PA0354</td>\n",
       "      <td>7615.0</td>\n",
       "      <td>4200.0</td>\n",
       "    </tr>\n",
       "    <tr>\n",
       "      <th>2</th>\n",
       "      <td>1/7/14</td>\n",
       "      <td>PA0607</td>\n",
       "      <td>4054.0</td>\n",
       "      <td>7935.0</td>\n",
       "    </tr>\n",
       "    <tr>\n",
       "      <th>3</th>\n",
       "      <td>8/25/14</td>\n",
       "      <td>PA0745</td>\n",
       "      <td>9317.0</td>\n",
       "      <td>5536.0</td>\n",
       "    </tr>\n",
       "    <tr>\n",
       "      <th>4</th>\n",
       "      <td>11/30/14</td>\n",
       "      <td>PA0923</td>\n",
       "      <td>5586.0</td>\n",
       "      <td>NaN</td>\n",
       "    </tr>\n",
       "  </tbody>\n",
       "</table>\n",
       "</div>"
      ],
      "text/plain": [
       "       date source_id    cost  revenue\n",
       "0  10/17/14    PA0577  7168.0   8417.0\n",
       "1   8/17/14    PA0354  7615.0   4200.0\n",
       "2    1/7/14    PA0607  4054.0   7935.0\n",
       "3   8/25/14    PA0745  9317.0   5536.0\n",
       "4  11/30/14    PA0923  5586.0      NaN"
      ]
     },
     "execution_count": 8,
     "metadata": {},
     "output_type": "execute_result"
    }
   ],
   "source": [
    "CostRevO.head()"
   ]
  },
  {
   "cell_type": "code",
   "execution_count": 9,
   "metadata": {},
   "outputs": [
    {
     "data": {
      "text/plain": [
       "14618"
      ]
     },
     "execution_count": 9,
     "metadata": {},
     "output_type": "execute_result"
    }
   ],
   "source": [
    "CostRevO.shape[0]"
   ]
  },
  {
   "cell_type": "markdown",
   "metadata": {},
   "source": [
    "We can see that the total number of rows after joining has increased from 1000(individual dataset) and is less that 2000(both dataset's total rows) on joining the two datasets as expected of an outer join. Thus, all the rows have been returned regradless of a match between the two datasets."
   ]
  },
  {
   "cell_type": "markdown",
   "metadata": {},
   "source": [
    "#### 2. Join the two datasets (InterviewData_Cost.csv and InterviewData_Rev.csv) by \"date\" and  \"source_id\" returning only the rows from the “Cost” file that have no corresponding date in the “Revenue” file."
   ]
  },
  {
   "cell_type": "code",
   "execution_count": 10,
   "metadata": {},
   "outputs": [],
   "source": [
    "#Storing only the values of Cost where Revenue is null from the CostRevO(Outer join of the two datasets) dataframe\n",
    "CostRevN = CostRevO[(pd.notnull(CostRevO[\"cost\"]) & pd.isnull(CostRevO[\"revenue\"]))]"
   ]
  },
  {
   "cell_type": "code",
   "execution_count": 11,
   "metadata": {},
   "outputs": [
    {
     "data": {
      "text/html": [
       "<div>\n",
       "<style scoped>\n",
       "    .dataframe tbody tr th:only-of-type {\n",
       "        vertical-align: middle;\n",
       "    }\n",
       "\n",
       "    .dataframe tbody tr th {\n",
       "        vertical-align: top;\n",
       "    }\n",
       "\n",
       "    .dataframe thead th {\n",
       "        text-align: right;\n",
       "    }\n",
       "</style>\n",
       "<table border=\"1\" class=\"dataframe\">\n",
       "  <thead>\n",
       "    <tr style=\"text-align: right;\">\n",
       "      <th></th>\n",
       "      <th>date</th>\n",
       "      <th>source_id</th>\n",
       "      <th>cost</th>\n",
       "      <th>revenue</th>\n",
       "    </tr>\n",
       "  </thead>\n",
       "  <tbody>\n",
       "    <tr>\n",
       "      <th>4</th>\n",
       "      <td>11/30/14</td>\n",
       "      <td>PA0923</td>\n",
       "      <td>5586.0</td>\n",
       "      <td>NaN</td>\n",
       "    </tr>\n",
       "    <tr>\n",
       "      <th>6</th>\n",
       "      <td>12/17/14</td>\n",
       "      <td>PA0952</td>\n",
       "      <td>6662.0</td>\n",
       "      <td>NaN</td>\n",
       "    </tr>\n",
       "    <tr>\n",
       "      <th>7</th>\n",
       "      <td>5/22/14</td>\n",
       "      <td>PA0411</td>\n",
       "      <td>4795.0</td>\n",
       "      <td>NaN</td>\n",
       "    </tr>\n",
       "    <tr>\n",
       "      <th>9</th>\n",
       "      <td>10/14/14</td>\n",
       "      <td>PA0168</td>\n",
       "      <td>9651.0</td>\n",
       "      <td>NaN</td>\n",
       "    </tr>\n",
       "    <tr>\n",
       "      <th>10</th>\n",
       "      <td>2/13/14</td>\n",
       "      <td>PA0354</td>\n",
       "      <td>2752.0</td>\n",
       "      <td>NaN</td>\n",
       "    </tr>\n",
       "  </tbody>\n",
       "</table>\n",
       "</div>"
      ],
      "text/plain": [
       "        date source_id    cost  revenue\n",
       "4   11/30/14    PA0923  5586.0      NaN\n",
       "6   12/17/14    PA0952  6662.0      NaN\n",
       "7    5/22/14    PA0411  4795.0      NaN\n",
       "9   10/14/14    PA0168  9651.0      NaN\n",
       "10   2/13/14    PA0354  2752.0      NaN"
      ]
     },
     "execution_count": 11,
     "metadata": {},
     "output_type": "execute_result"
    }
   ],
   "source": [
    "CostRevN.head()"
   ]
  },
  {
   "cell_type": "code",
   "execution_count": 12,
   "metadata": {},
   "outputs": [
    {
     "data": {
      "text/plain": [
       "date            0\n",
       "source_id       0\n",
       "cost            0\n",
       "revenue      4609\n",
       "dtype: int64"
      ]
     },
     "execution_count": 12,
     "metadata": {},
     "output_type": "execute_result"
    }
   ],
   "source": [
    "CostRevN.isna().sum()"
   ]
  },
  {
   "cell_type": "code",
   "execution_count": 13,
   "metadata": {},
   "outputs": [
    {
     "data": {
      "text/plain": [
       "4609"
      ]
     },
     "execution_count": 13,
     "metadata": {},
     "output_type": "execute_result"
    }
   ],
   "source": [
    "CostRevN.shape[0]"
   ]
  },
  {
   "cell_type": "markdown",
   "metadata": {},
   "source": [
    "There are total 4609 rows where we did not find a match for Cost's date in Revenue's date"
   ]
  },
  {
   "cell_type": "markdown",
   "metadata": {},
   "source": [
    "#### 3. Using your result from #1, what are the Top 4 sources(“source_id”values) in terms of total revenue generation across this data set? How would you visualize the monthly revenue for those Top 4 sources?"
   ]
  },
  {
   "cell_type": "code",
   "execution_count": 14,
   "metadata": {},
   "outputs": [
    {
     "data": {
      "image/png": "[encoded data removed]",
      "text/plain": [
       "<Figure size 864x576 with 1 Axes>"
      ]
     },
     "metadata": {
      "needs_background": "light"
     },
     "output_type": "display_data"
    }
   ],
   "source": [
    "ax = CostRevO.groupby(\"source_id\")[\"revenue\"].sum().sort_values(ascending = False).head(4)\\\n",
    "    .plot.bar(colors=\"#CEF1F2\", figsize=(12,8), fontsize=13, edgecolor='#008FFF')\n",
    "for i in ax.patches:\n",
    "    ax.annotate(np.round(i.get_height()), (i.get_x()+i.get_width()/2, i.get_height()),\n",
    "         ha='center', va='center', color='#4F616B',fontsize =14,\n",
    "         xytext=(2,8), textcoords='offset points')\n",
    "ax.yaxis.grid()\n",
    "ax.set_title('Top 4 sources in terms of total revenue generation', fontsize=16, color='black', pad=20)\n",
    "ax.axhline(CostRevO.groupby(\"source_id\")[\"revenue\"].sum().min(), color='blue', linewidth=2, linestyle='--')\n",
    "ax.axhline(CostRevO.groupby(\"source_id\")[\"revenue\"].sum().median(), color='red', linewidth=2, linestyle='-.')\n",
    "plt.ylabel('Revenue',fontsize=14, color='black')\n",
    "plt.xlabel('Source ID',fontsize=14, color='black')\n",
    "plt.xticks(rotation=0)\n",
    "ax.yaxis.labelpad = 20\n",
    "ax.xaxis.labelpad = 20\n",
    "plt.show()"
   ]
  },
  {
   "cell_type": "markdown",
   "metadata": {},
   "source": [
    "The above bar graph depicts the total revenue generation of the top 4 sources across the dataset.  The median line (red color) shows the measure of central tendency revenue generation in comparision to other sources and the minimum line (blue color) shows the least revenue generated across the dataset."
   ]
  },
  {
   "cell_type": "code",
   "execution_count": 15,
   "metadata": {},
   "outputs": [
    {
     "data": {
      "text/plain": [
       "source_id\n",
       "PA0527    1385747.0\n",
       "PA0308    1338615.0\n",
       "PA0352    1309685.0\n",
       "PA0552    1283190.0\n",
       "Name: revenue, dtype: float64"
      ]
     },
     "execution_count": 15,
     "metadata": {},
     "output_type": "execute_result"
    }
   ],
   "source": [
    "CostRevO.groupby(\"source_id\")[\"revenue\"].sum().sort_values(ascending = False).head(4)"
   ]
  },
  {
   "cell_type": "code",
   "execution_count": 16,
   "metadata": {},
   "outputs": [],
   "source": [
    "CostRevO['date'] = pd.to_datetime(CostRevO['date'])"
   ]
  },
  {
   "cell_type": "code",
   "execution_count": 17,
   "metadata": {},
   "outputs": [],
   "source": [
    "CostRevO['month'] = CostRevO.date.dt.strftime('%m')"
   ]
  },
  {
   "cell_type": "code",
   "execution_count": 18,
   "metadata": {},
   "outputs": [],
   "source": [
    "CostRevO['Year'] = CostRevO.date.dt.strftime('%Y') "
   ]
  },
  {
   "cell_type": "code",
   "execution_count": 19,
   "metadata": {},
   "outputs": [
    {
     "data": {
      "text/plain": [
       "array(['2014'], dtype=object)"
      ]
     },
     "execution_count": 19,
     "metadata": {},
     "output_type": "execute_result"
    }
   ],
   "source": [
    "CostRevO['Year'].unique()\n",
    "#Since all the data is of 2014 we will only be using variable months in x axis"
   ]
  },
  {
   "cell_type": "code",
   "execution_count": 20,
   "metadata": {},
   "outputs": [],
   "source": [
    "RevG = CostRevO.groupby([\"source_id\",\"month\"]).agg({ \"revenue\" : \"sum\"})\n",
    "RevG = RevG['revenue'].to_frame().reset_index()"
   ]
  },
  {
   "cell_type": "code",
   "execution_count": 21,
   "metadata": {},
   "outputs": [],
   "source": [
    "A = RevG[RevG['source_id'] == 'PA0527']\n",
    "B = RevG[RevG['source_id'] == 'PA0308']\n",
    "C = RevG[RevG['source_id'] == 'PA0352']\n",
    "D = RevG[RevG['source_id'] == 'PA0552']"
   ]
  },
  {
   "cell_type": "code",
   "execution_count": 22,
   "metadata": {},
   "outputs": [
    {
     "data": {
      "image/png": "[encoded data removed]",
      "text/plain": [
       "<Figure size 864x576 with 1 Axes>"
      ]
     },
     "metadata": {
      "needs_background": "light"
     },
     "output_type": "display_data"
    }
   ],
   "source": [
    "x=range(1,13)\n",
    "fig = plt.figure(figsize = (12,8))\n",
    "A.groupby(RevG[\"month\"])[\"revenue\"].sum().plot.line(color='#800000')\n",
    "B.groupby(RevG[\"month\"])[\"revenue\"].sum().plot.line(color='#f09d06')\n",
    "C.groupby(RevG[\"month\"])[\"revenue\"].sum().plot.line(color='#7a972c')\n",
    "D.groupby(RevG[\"month\"])[\"revenue\"].sum().plot.line(color='#2d607c')\n",
    "plt.legend(['PA0527', 'PA0308', 'PA0352', 'PA0552'], title='Source ID')\n",
    "plt.title('Monthly revenue of Top 4 Sources', fontsize=16, color='black', pad=20)\n",
    "plt.ylabel('Revenue',fontsize=14, color='black')\n",
    "plt.xlabel('Month',fontsize=14, color='black')\n",
    "plt.show()"
   ]
  },
  {
   "cell_type": "markdown",
   "metadata": {},
   "source": [
    "The graph above is a multiple lines plot which shows the revenue trend analysis of the Top 4 sources across the months .i.e, monthly revenue generated by the top 4 sources. The line plot shows the sum of generated revenue data in a trend in each source across 12 months."
   ]
  },
  {
   "cell_type": "markdown",
   "metadata": {},
   "source": [
    "#### 4. Assuming you’ve read the data into a Pandas DataFrame called df, run the following code to build a basic logistic regression model:"
   ]
  },
  {
   "cell_type": "code",
   "execution_count": 23,
   "metadata": {},
   "outputs": [],
   "source": [
    "dummy_genders = pd.get_dummies(df['gender'], prefix = 'gender')\n",
    "dummy_metro = pd.get_dummies(df['metropolitan_area'], prefix = 'metro_area')\n",
    "dummy_device = pd.get_dummies(df['device_type'], prefix = 'device')\n",
    "cols_to_keep = ['active', 'age']\n",
    "activity_data = df[cols_to_keep].join(dummy_genders.ix[:, 'gender_M':])\n",
    "activity_data = activity_data.join(dummy_metro.ix[:, 'metro_area_Birmingham':])\n",
    "activity_data = activity_data.join(dummy_device.ix[:, 'device_Mobile':])\n",
    "activity_data = sm.add_constant(activity_data, prepend=False)\n",
    "explanatory_cols = activity_data.columns[1:]\n",
    "full_logit_model = sm.GLM(activity_data['active'], activity_data[explanatory_cols], family=sm.families.Binomial())\n",
    "result = full_logit_model.fit()"
   ]
  },
  {
   "cell_type": "markdown",
   "metadata": {},
   "source": [
    "#### Apply this model to the same data that the model was trained on and assess the prediction accuracy"
   ]
  },
  {
   "cell_type": "code",
   "execution_count": 24,
   "metadata": {},
   "outputs": [
    {
     "name": "stdout",
     "output_type": "stream",
     "text": [
      "[[1626 1164]\n",
      " [1109 1521]]\n",
      "              precision    recall  f1-score   support\n",
      "\n",
      "           0       0.59      0.58      0.59      2790\n",
      "           1       0.57      0.58      0.57      2630\n",
      "\n",
      "    accuracy                           0.58      5420\n",
      "   macro avg       0.58      0.58      0.58      5420\n",
      "weighted avg       0.58      0.58      0.58      5420\n",
      "\n"
     ]
    }
   ],
   "source": [
    "def cm(y, X):\n",
    "    pred = []\n",
    "    for i in result.predict(X).tolist():\n",
    "        pred.append(1) if i >= 0.5 else pred.append(0)\n",
    "    print(metrics.confusion_matrix(y, pred))\n",
    "    print(classification_report(y, pred))\n",
    "cm(activity_data['active'], activity_data[explanatory_cols])"
   ]
  },
  {
   "cell_type": "markdown",
   "metadata": {},
   "source": [
    "On applying the model to the same data it can be seen that it predicted if a member was active or not with aan accuracy of 58%"
   ]
  },
  {
   "cell_type": "markdown",
   "metadata": {},
   "source": [
    "#### 5. Split the data into training and test samples, and build a model over the training data using the following Python code"
   ]
  },
  {
   "cell_type": "code",
   "execution_count": 25,
   "metadata": {},
   "outputs": [],
   "source": [
    "training_data = activity_data[1:4000]\n",
    "test_data = activity_data[4001:].copy()\n",
    "training_logit_model = sm.GLM(training_data['active'],\n",
    "training_data[explanatory_cols],\n",
    "family=sm.families.Binomial()) \n",
    "training_result = training_logit_model.fit()"
   ]
  },
  {
   "cell_type": "markdown",
   "metadata": {},
   "source": [
    "#### Assess the training data model’s accuracy on the test data. Why does the accuracy change so much?"
   ]
  },
  {
   "cell_type": "code",
   "execution_count": 26,
   "metadata": {
    "scrolled": true
   },
   "outputs": [
    {
     "name": "stdout",
     "output_type": "stream",
     "text": [
      "[[787 503]\n",
      " [ 53  76]]\n",
      "              precision    recall  f1-score   support\n",
      "\n",
      "           0       0.94      0.61      0.74      1290\n",
      "           1       0.13      0.59      0.21       129\n",
      "\n",
      "    accuracy                           0.61      1419\n",
      "   macro avg       0.53      0.60      0.48      1419\n",
      "weighted avg       0.86      0.61      0.69      1419\n",
      "\n"
     ]
    }
   ],
   "source": [
    "cm(test_data['active'], test_data[explanatory_cols])"
   ]
  },
  {
   "cell_type": "markdown",
   "metadata": {},
   "source": [
    "We applied the model that had already used the same data in the first instance whereas, in the second model the testing data allowed to test our model on data that was independent of our training data. The model turned out to be predicting apporximately the same precision, recall, and f1-score with the test data as expected of a good model. The accuracy changed as a result of bias from our first case in comparision to the second case."
   ]
  },
  {
   "cell_type": "markdown",
   "metadata": {},
   "source": [
    "#### 6. This data comes from a subset of user data JSON blobs stored in our database. Parse out the values (stored in the “data_to_parse” column) into four separate columns. "
   ]
  },
  {
   "cell_type": "code",
   "execution_count": 27,
   "metadata": {},
   "outputs": [
    {
     "data": {
      "text/html": [
       "<div>\n",
       "<style scoped>\n",
       "    .dataframe tbody tr th:only-of-type {\n",
       "        vertical-align: middle;\n",
       "    }\n",
       "\n",
       "    .dataframe tbody tr th {\n",
       "        vertical-align: top;\n",
       "    }\n",
       "\n",
       "    .dataframe thead th {\n",
       "        text-align: right;\n",
       "    }\n",
       "</style>\n",
       "<table border=\"1\" class=\"dataframe\">\n",
       "  <thead>\n",
       "    <tr style=\"text-align: right;\">\n",
       "      <th></th>\n",
       "      <th>userid</th>\n",
       "      <th>data_to_parse</th>\n",
       "    </tr>\n",
       "  </thead>\n",
       "  <tbody>\n",
       "    <tr>\n",
       "      <th>0</th>\n",
       "      <td>54f3ad9a29ada</td>\n",
       "      <td>\"value\":\"N;U;A7;W\"}]</td>\n",
       "    </tr>\n",
       "    <tr>\n",
       "      <th>1</th>\n",
       "      <td>54f69f2de6aec</td>\n",
       "      <td>\"value\":\"N;U;I6;W\"}]</td>\n",
       "    </tr>\n",
       "    <tr>\n",
       "      <th>2</th>\n",
       "      <td>54f650f004474</td>\n",
       "      <td>\"value\":\"Y;U;A7;W\"}]</td>\n",
       "    </tr>\n",
       "    <tr>\n",
       "      <th>3</th>\n",
       "      <td>54f52e8872227</td>\n",
       "      <td>\"value\":\"N;U;I1;W\"}]</td>\n",
       "    </tr>\n",
       "    <tr>\n",
       "      <th>4</th>\n",
       "      <td>54f64d3075b72</td>\n",
       "      <td>\"value\":\"Y;U;A7;W\"}]</td>\n",
       "    </tr>\n",
       "  </tbody>\n",
       "</table>\n",
       "</div>"
      ],
      "text/plain": [
       "          userid         data_to_parse\n",
       "0  54f3ad9a29ada  \"value\":\"N;U;A7;W\"}]\n",
       "1  54f69f2de6aec  \"value\":\"N;U;I6;W\"}]\n",
       "2  54f650f004474  \"value\":\"Y;U;A7;W\"}]\n",
       "3  54f52e8872227  \"value\":\"N;U;I1;W\"}]\n",
       "4  54f64d3075b72  \"value\":\"Y;U;A7;W\"}]"
      ]
     },
     "execution_count": 27,
     "metadata": {},
     "output_type": "execute_result"
    }
   ],
   "source": [
    "parsing.head()"
   ]
  },
  {
   "cell_type": "code",
   "execution_count": 28,
   "metadata": {},
   "outputs": [],
   "source": [
    "parsing['data_to_parse'] = parsing['data_to_parse'].map(lambda x: x.lstrip('\"value\":\"').rstrip('\"}]'))\n",
    "parsing[['Value1','Value2', 'Value3', 'Value4']] = parsing.data_to_parse.str.split(\";\",expand=True,)"
   ]
  },
  {
   "cell_type": "code",
   "execution_count": 29,
   "metadata": {},
   "outputs": [
    {
     "data": {
      "text/html": [
       "<div>\n",
       "<style scoped>\n",
       "    .dataframe tbody tr th:only-of-type {\n",
       "        vertical-align: middle;\n",
       "    }\n",
       "\n",
       "    .dataframe tbody tr th {\n",
       "        vertical-align: top;\n",
       "    }\n",
       "\n",
       "    .dataframe thead th {\n",
       "        text-align: right;\n",
       "    }\n",
       "</style>\n",
       "<table border=\"1\" class=\"dataframe\">\n",
       "  <thead>\n",
       "    <tr style=\"text-align: right;\">\n",
       "      <th></th>\n",
       "      <th>userid</th>\n",
       "      <th>data_to_parse</th>\n",
       "      <th>Value1</th>\n",
       "      <th>Value2</th>\n",
       "      <th>Value3</th>\n",
       "      <th>Value4</th>\n",
       "    </tr>\n",
       "  </thead>\n",
       "  <tbody>\n",
       "    <tr>\n",
       "      <th>0</th>\n",
       "      <td>54f3ad9a29ada</td>\n",
       "      <td>N;U;A7;W</td>\n",
       "      <td>N</td>\n",
       "      <td>U</td>\n",
       "      <td>A7</td>\n",
       "      <td>W</td>\n",
       "    </tr>\n",
       "    <tr>\n",
       "      <th>1</th>\n",
       "      <td>54f69f2de6aec</td>\n",
       "      <td>N;U;I6;W</td>\n",
       "      <td>N</td>\n",
       "      <td>U</td>\n",
       "      <td>I6</td>\n",
       "      <td>W</td>\n",
       "    </tr>\n",
       "    <tr>\n",
       "      <th>2</th>\n",
       "      <td>54f650f004474</td>\n",
       "      <td>Y;U;A7;W</td>\n",
       "      <td>Y</td>\n",
       "      <td>U</td>\n",
       "      <td>A7</td>\n",
       "      <td>W</td>\n",
       "    </tr>\n",
       "    <tr>\n",
       "      <th>3</th>\n",
       "      <td>54f52e8872227</td>\n",
       "      <td>N;U;I1;W</td>\n",
       "      <td>N</td>\n",
       "      <td>U</td>\n",
       "      <td>I1</td>\n",
       "      <td>W</td>\n",
       "    </tr>\n",
       "    <tr>\n",
       "      <th>4</th>\n",
       "      <td>54f64d3075b72</td>\n",
       "      <td>Y;U;A7;W</td>\n",
       "      <td>Y</td>\n",
       "      <td>U</td>\n",
       "      <td>A7</td>\n",
       "      <td>W</td>\n",
       "    </tr>\n",
       "    <tr>\n",
       "      <th>5</th>\n",
       "      <td>54f69dc01793f</td>\n",
       "      <td>N;U;A1;W</td>\n",
       "      <td>N</td>\n",
       "      <td>U</td>\n",
       "      <td>A1</td>\n",
       "      <td>W</td>\n",
       "    </tr>\n",
       "    <tr>\n",
       "      <th>6</th>\n",
       "      <td>54f5d26833ce6</td>\n",
       "      <td>N;U;A1;W</td>\n",
       "      <td>N</td>\n",
       "      <td>U</td>\n",
       "      <td>A1</td>\n",
       "      <td>W</td>\n",
       "    </tr>\n",
       "    <tr>\n",
       "      <th>7</th>\n",
       "      <td>54f52b1a7e647</td>\n",
       "      <td>N;U;A4;W</td>\n",
       "      <td>N</td>\n",
       "      <td>U</td>\n",
       "      <td>A4</td>\n",
       "      <td>W</td>\n",
       "    </tr>\n",
       "    <tr>\n",
       "      <th>8</th>\n",
       "      <td>54f4ae7da8d01</td>\n",
       "      <td>N;U;A1;W</td>\n",
       "      <td>N</td>\n",
       "      <td>U</td>\n",
       "      <td>A1</td>\n",
       "      <td>W</td>\n",
       "    </tr>\n",
       "    <tr>\n",
       "      <th>9</th>\n",
       "      <td>54f6290ca187d</td>\n",
       "      <td>N;U;U;W</td>\n",
       "      <td>N</td>\n",
       "      <td>U</td>\n",
       "      <td>U</td>\n",
       "      <td>W</td>\n",
       "    </tr>\n",
       "  </tbody>\n",
       "</table>\n",
       "</div>"
      ],
      "text/plain": [
       "          userid data_to_parse Value1 Value2 Value3 Value4\n",
       "0  54f3ad9a29ada      N;U;A7;W      N      U     A7      W\n",
       "1  54f69f2de6aec      N;U;I6;W      N      U     I6      W\n",
       "2  54f650f004474      Y;U;A7;W      Y      U     A7      W\n",
       "3  54f52e8872227      N;U;I1;W      N      U     I1      W\n",
       "4  54f64d3075b72      Y;U;A7;W      Y      U     A7      W\n",
       "5  54f69dc01793f      N;U;A1;W      N      U     A1      W\n",
       "6  54f5d26833ce6      N;U;A1;W      N      U     A1      W\n",
       "7  54f52b1a7e647      N;U;A4;W      N      U     A4      W\n",
       "8  54f4ae7da8d01      N;U;A1;W      N      U     A1      W\n",
       "9  54f6290ca187d       N;U;U;W      N      U      U      W"
      ]
     },
     "execution_count": 29,
     "metadata": {},
     "output_type": "execute_result"
    }
   ],
   "source": [
    "parsing.head(10)"
   ]
  },
  {
   "cell_type": "markdown",
   "metadata": {},
   "source": [
    "As we can see in the above dataframe, the data_to_parse column has been parsed into 4 seperate columns with values."
   ]
  },
  {
   "cell_type": "markdown",
   "metadata": {},
   "source": [
    "### Additional Question - C"
   ]
  },
  {
   "cell_type": "markdown",
   "metadata": {},
   "source": [
    "#### When we introduce new products or features, we generally prefer to implement them as a test at first – sometimes though, we don't have that option. Imagine that on the operations side, which deals primarily with shoppers, we decide to revamp the way in which potential orders (from a member) are offered to a shopper (they can either ignore the notification, decline it, or accept it). We’ve got 60 days of data under the old system and 60 days after the revamp was implemented, we’re hoping to figure out whether it led to an increase in offer acceptance rate (proportion of accepts out of all the response options). How might you go about trying to quantify the change due to the revamp?"
   ]
  },
  {
   "cell_type": "markdown",
   "metadata": {},
   "source": [
    "In order to quantify the change due to the revamp we can perform Hypothesis testing using t-test.\n",
    "\n",
    "T-test boils down all the values to one value - t-value. The calculations compare the sample mean(s) to the null hypothesis and incorporates both the sample size and the variability in the data.\n",
    "\n",
    "#### Null Hypothesis: Increase in offer acceptance rate due to the revamp\n",
    "#### Alternate Hypothesis: Offer acceptance rate did not increase due to the revamp\n",
    "\n",
    "To calculate the t-value we need to calculate the acceptance rate and generate the distribution across each i.e., the data under the old system before the revamp was implemented and the data under the new system after the revamp was implemented. Then we calculate the sample mean and standard deviations, the t-value and p-value using stats from sciPy. \n",
    "\n",
    "#### With a confidence of 95% (0.05 p) we reject our null hypothesis if the calculated p-value is greater than 0.05 and accept the alternate hypothesis i.e., the Offer acceptance rate did not increase due to the revamp. \n",
    "\n",
    "#### If our calculated p-value is lesser than 0.05 we accept the null hypothesis with 95% i.e., there was an increase in offer acceptance rate due to the revamp. \n",
    "\n",
    "Also, the difference between the averages of both data would tell us the degree of increase/decrease offer acceptance."
   ]
  }
 ],
 "metadata": {
  "kernelspec": {
   "display_name": "Python 3",
   "language": "python",
   "name": "python3"
  },
  "language_info": {
   "codemirror_mode": {
    "name": "ipython",
    "version": 3
   },
   "file_extension": ".py",
   "mimetype": "text/x-python",
   "name": "python",
   "nbconvert_exporter": "python",
   "pygments_lexer": "ipython3",
   "version": "3.6.8"
  }
 },
 "nbformat": 4,
 "nbformat_minor": 2
}
